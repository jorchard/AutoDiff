{
 "cells": [
  {
   "cell_type": "markdown",
   "metadata": {
    "Collapsed": "false"
   },
   "source": [
    "# Optimization using Auto-Differentiation"
   ]
  },
  {
   "cell_type": "markdown",
   "metadata": {
    "Collapsed": "false"
   },
   "source": [
    "Purpose: To test the AD code in simple gradient-based optimization scenarios."
   ]
  },
  {
   "cell_type": "code",
   "execution_count": 20,
   "metadata": {
    "Collapsed": "false"
   },
   "outputs": [
    {
     "name": "stdout",
     "output_type": "stream",
     "text": [
      "The autoreload extension is already loaded. To reload it, use:\n",
      "  %reload_ext autoreload\n"
     ]
    }
   ],
   "source": [
    "import numpy as np\n",
    "from joAD import *\n",
    "import matplotlib.pyplot as plt\n",
    "%load_ext autoreload\n",
    "%autoreload 2"
   ]
  },
  {
   "cell_type": "markdown",
   "metadata": {
    "Collapsed": "false"
   },
   "source": [
    "## Scalar function to minimize"
   ]
  },
  {
   "cell_type": "code",
   "execution_count": 21,
   "metadata": {
    "Collapsed": "false"
   },
   "outputs": [],
   "source": [
    "def f(x):\n",
    "    return 8*x**4 + 4*x**3 - 28*x**2 - 24*x\n",
    "def f_primed(x):\n",
    "    return 32*x**3 + 12*x**2 - 56*x - 24"
   ]
  },
  {
   "cell_type": "code",
   "execution_count": 22,
   "metadata": {
    "Collapsed": "false"
   },
   "outputs": [
    {
     "data": {
      "image/png": "[encoded data removed]",
      "text/plain": [
       "<Figure size 432x288 with 1 Axes>"
      ]
     },
     "metadata": {
      "needs_background": "light"
     },
     "output_type": "display_data"
    }
   ],
   "source": [
    "xx = np.linspace(-2,2,100)\n",
    "yy = f(xx)\n",
    "plt.figure()\n",
    "plt.plot(xx,yy);"
   ]
  },
  {
   "cell_type": "markdown",
   "metadata": {
    "Collapsed": "false"
   },
   "source": [
    "## Set up computation"
   ]
  },
  {
   "cell_type": "code",
   "execution_count": 23,
   "metadata": {
    "Collapsed": "false"
   },
   "outputs": [],
   "source": [
    "# x\n",
    "X = MyVar(0.0)\n",
    "\n",
    "# Coefficients\n",
    "A = MyVar(8.0)\n",
    "B = MyVar(4.0)\n",
    "C = MyVar(-28.0)\n",
    "D = MyVar(-24.0)"
   ]
  },
  {
   "cell_type": "code",
   "execution_count": 24,
   "metadata": {
    "Collapsed": "false"
   },
   "outputs": [],
   "source": [
    "# Build the formula using my functions from the joAD module\n",
    "term1 = Mul(A,Power(X,4))\n",
    "term2 = Mul(B,Power(X,3))\n",
    "term3 = Mul(C,Power(X,2))\n",
    "term4 = Mul(D,X)\n",
    "F = Plus( Plus(term1, term2), Plus(term3, term4) )"
   ]
  },
  {
   "cell_type": "code",
   "execution_count": 26,
   "metadata": {
    "Collapsed": "false"
   },
   "outputs": [
    {
     "data": {
      "text/plain": [
       "((8.0*(0.0)**4+4.0*(0.0)**3)+(-28.0*(0.0)**2+-24.0*0.0))"
      ]
     },
     "execution_count": 26,
     "metadata": {},
     "output_type": "execute_result"
    }
   ],
   "source": [
    "# Display the expression\n",
    "F"
   ]
  },
  {
   "cell_type": "markdown",
   "metadata": {
    "Collapsed": "false"
   },
   "source": [
    "## Evaluate the expression"
   ]
  },
  {
   "cell_type": "code",
   "execution_count": 27,
   "metadata": {
    "Collapsed": "false"
   },
   "outputs": [
    {
     "data": {
      "text/plain": [
       "0.0"
      ]
     },
     "execution_count": 27,
     "metadata": {},
     "output_type": "execute_result"
    }
   ],
   "source": [
    "F.val  # for the given X-value as it was set up"
   ]
  },
  {
   "cell_type": "code",
   "execution_count": 28,
   "metadata": {
    "Collapsed": "false"
   },
   "outputs": [
    {
     "data": {
      "text/plain": [
       "0.0"
      ]
     },
     "execution_count": 28,
     "metadata": {},
     "output_type": "execute_result"
    }
   ],
   "source": [
    "# Can also use functional notation\n",
    "F()"
   ]
  },
  {
   "cell_type": "code",
   "execution_count": 29,
   "metadata": {
    "Collapsed": "false"
   },
   "outputs": [
    {
     "data": {
      "text/plain": [
       "-40.0"
      ]
     },
     "execution_count": 29,
     "metadata": {},
     "output_type": "execute_result"
    }
   ],
   "source": [
    "# Let's choose a different x-value\n",
    "X.Set(1.)\n",
    "F.Evaluate()  # Causes recomputation of the whole graph"
   ]
  },
  {
   "cell_type": "code",
   "execution_count": 30,
   "metadata": {
    "Collapsed": "false"
   },
   "outputs": [
    {
     "data": {
      "text/plain": [
       "((8.0*(1.0)**4+4.0*(1.0)**3)+(-28.0*(1.0)**2+-24.0*1.0))"
      ]
     },
     "execution_count": 30,
     "metadata": {},
     "output_type": "execute_result"
    }
   ],
   "source": [
    "F"
   ]
  },
  {
   "cell_type": "code",
   "execution_count": 31,
   "metadata": {
    "Collapsed": "false"
   },
   "outputs": [
    {
     "data": {
      "text/plain": [
       "-28.0*(1.0)**2"
      ]
     },
     "execution_count": 31,
     "metadata": {},
     "output_type": "execute_result"
    }
   ],
   "source": [
    "term3"
   ]
  },
  {
   "cell_type": "markdown",
   "metadata": {
    "Collapsed": "false"
   },
   "source": [
    "## Gradients"
   ]
  },
  {
   "cell_type": "code",
   "execution_count": 32,
   "metadata": {
    "Collapsed": "false"
   },
   "outputs": [
    {
     "data": {
      "text/plain": [
       "-36.0"
      ]
     },
     "execution_count": 32,
     "metadata": {},
     "output_type": "execute_result"
    }
   ],
   "source": [
    "F.ZeroGrad()   # sets all gradients to zero (duh)\n",
    "F.Backward()   # projects the derivatives down through the graph\n",
    "X.grad"
   ]
  },
  {
   "cell_type": "code",
   "execution_count": 33,
   "metadata": {
    "Collapsed": "false"
   },
   "outputs": [
    {
     "data": {
      "text/plain": [
       "-36.0"
      ]
     },
     "execution_count": 33,
     "metadata": {},
     "output_type": "execute_result"
    }
   ],
   "source": [
    "f_primed(X.val)"
   ]
  },
  {
   "cell_type": "code",
   "execution_count": 34,
   "metadata": {
    "Collapsed": "false"
   },
   "outputs": [
    {
     "name": "stdout",
     "output_type": "stream",
     "text": [
      "-120.0\n",
      "-120\n"
     ]
    }
   ],
   "source": [
    "X.Set(-2)\n",
    "F.Evaluate()\n",
    "F.ZeroGrad()\n",
    "F.Backward()\n",
    "print(X.grad)\n",
    "print(f_primed(X.val))"
   ]
  },
  {
   "cell_type": "markdown",
   "metadata": {
    "Collapsed": "false"
   },
   "source": [
    "## Optimization"
   ]
  },
  {
   "cell_type": "code",
   "execution_count": 35,
   "metadata": {
    "Collapsed": "false"
   },
   "outputs": [
    {
     "name": "stdout",
     "output_type": "stream",
     "text": [
      "-0.5 5.0\n",
      "-0.53 4.890530479999999\n",
      "-0.57286736 4.6694539158929995\n",
      "-0.632893715517608 4.243441811199271\n",
      "-0.7142580436623102 3.4821719921558065\n",
      "-0.8188577710971943 2.2783956297675894\n",
      "-0.9421800155790306 0.715262005452026\n",
      "-1.0686848228766612 -0.7772262090211637\n",
      "-1.1736287741916869 -1.6885363818933712\n",
      "-1.2388497302701698 -2.0022331636389143\n",
      "-1.2683520717158823 -2.0615411865021347\n",
      "-1.2787410254942664 -2.068623667757487\n",
      "-1.2819470416518044 -2.069289078534384\n",
      "-1.2828882386607885 -2.069346185748799\n",
      "-1.2831602153808173 -2.069350948472703\n",
      "-1.2832384415121871 -2.069351342331089\n",
      "-1.283260910508917 -2.069351374821789\n",
      "-1.2832673617933377 -2.0693513775001584\n",
      "-1.2832692138746684 -2.0693513777209063\n",
      "-1.283269745566455 -2.0693513777390997\n"
     ]
    }
   ],
   "source": [
    "x = -0.5     # initial guess at root\n",
    "\n",
    "kappa = 0.01  # gradient step multiplier\n",
    "n_iters = 20  # number of gradient-descent steps\n",
    "\n",
    "xh = []  # for plotting\n",
    "fh = []\n",
    "\n",
    "for n in range(n_iters):\n",
    "    X.Set(x)\n",
    "    F.Evaluate()\n",
    "\n",
    "    xh.append(X.val)\n",
    "    fh.append(F.val)\n",
    "\n",
    "    # Compute gradients\n",
    "    F.ZeroGrad()\n",
    "    F.Backward()\n",
    "    \n",
    "    # gradient step\n",
    "    x -= kappa*X.grad\n",
    "    \n",
    "    print(X.val, F.val)\n",
    "    "
   ]
  },
  {
   "cell_type": "code",
   "execution_count": 36,
   "metadata": {
    "Collapsed": "false"
   },
   "outputs": [
    {
     "data": {
      "image/png": "[encoded data removed]",
      "text/plain": [
       "<Figure size 432x288 with 1 Axes>"
      ]
     },
     "metadata": {
      "needs_background": "light"
     },
     "output_type": "display_data"
    }
   ],
   "source": [
    "xx = np.linspace(-2,2,100)\n",
    "yy = f(xx)\n",
    "plt.figure()\n",
    "plt.plot(xx,yy);\n",
    "plt.plot(xh, fh, 'r.');\n",
    "#plt.savefig('quartic.png', dpi=100);"
   ]
  },
  {
   "cell_type": "code",
   "execution_count": null,
   "metadata": {
    "Collapsed": "false"
   },
   "outputs": [],
   "source": []
  }
 ],
 "metadata": {
  "kernelspec": {
   "display_name": "Python 3",
   "language": "python",
   "name": "python3"
  },
  "language_info": {
   "codemirror_mode": {
    "name": "ipython",
    "version": 3
   },
   "file_extension": ".py",
   "mimetype": "text/x-python",
   "name": "python",
   "nbconvert_exporter": "python",
   "pygments_lexer": "ipython3",
   "version": "3.7.4"
  }
 },
 "nbformat": 4,
 "nbformat_minor": 4
}
